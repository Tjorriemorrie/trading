{
 "cells": [
  {
   "cell_type": "code",
   "execution_count": 43,
   "metadata": {
    "collapsed": false
   },
   "outputs": [],
   "source": [
    "import numpy as np\n",
    "import pandas as pd\n",
    "from sklearn.preprocessing import MinMaxScaler, scale\n",
    "from sklearn.cross_validation import cross_val_score, train_test_split\n",
    "import os\n",
    "import pickle\n",
    "import matplotlib.pyplot as plt\n",
    "%matplotlib inline\n",
    "\n",
    "# Set some Pandas options\n",
    "pd.set_option('display.notebook_repr_html', False)\n",
    "pd.set_option('display.max_columns', 20)\n",
    "pd.set_option('display.max_rows', 25)\n",
    "\n",
    "#http://nbviewer.ipython.org/github/herrfz/dataanalysis/blob/master/week3/exploratory_graphs.ipynb\n",
    "#http://nbviewer.ipython.org/gist/fonnesbeck/5850463"
   ]
  },
  {
   "cell_type": "markdown",
   "metadata": {},
   "source": [
    "# Training\n",
    "---"
   ]
  },
  {
   "cell_type": "markdown",
   "metadata": {},
   "source": [
    "## Tournament data"
   ]
  },
  {
   "cell_type": "markdown",
   "metadata": {},
   "source": [
    "**load data**"
   ]
  },
  {
   "cell_type": "code",
   "execution_count": 44,
   "metadata": {
    "collapsed": false
   },
   "outputs": [
    {
     "name": "stdout",
     "output_type": "stream",
     "text": [
      "             money      player_name  points  pos  r1  r2  r3  r4  score\n",
      "player_id                                                              \n",
      "29289      1224000    Seung-Yul Noh     500    1  65  68  65  71    269\n",
      "34431       598400     Robert Streb     245   T2  67  66  68  70    271\n",
      "29425       598400   Andrew Svoboda     245   T2  64  68  70  69    271\n",
      "28475       326400     Jeff Overton     135    4  67  68  67  70    272\n",
      "24494       248200     Erik Compton     100   T5  66  68  72  68    274\n",
      "24358       248200  Robert Garrigus     100   T5  73  69  68  64    274\n",
      "12716       248200  Charley Hoffman     100   T5  68  67  68  71    274\n",
      "33141       197200   Keegan Bradley      80   T8  69  66  65  75    275\n",
      "30750       197200     Tommy Gainey      80   T8  71  66  67  71    275\n",
      "22405       197200      Justin Rose      80   T8  71  67  69  68    275\n",
      "25364       149600       Paul Casey      63  T11  71  68  64  73    276\n",
      "34021       149600       Bud Cauley      63  T11  71  68  66  71    276\n",
      "...            ...              ...     ...  ...  ..  ..  ..  ..    ...\n",
      "34409            0  David Lingmerth       0  CUT  68  79 NaN NaN    147\n",
      "35541            0    John Peterson       0  CUT  76  71 NaN NaN    147\n",
      "20691            0        Greg Owen       0  CUT  76  72 NaN NaN    148\n",
      "01948            0     Tim Petrovic       0  CUT  72  76 NaN NaN    148\n",
      "26679            0    Kevin Stadler       0  CUT  74  74 NaN NaN    148\n",
      "30692            0  Scott Stallings       0  CUT  74  74 NaN NaN    148\n",
      "24490            0   George McNeill       0  CUT  75  74 NaN NaN    149\n",
      "02239            0   Scott Verplank       0  CUT  73  76 NaN NaN    149\n",
      "34360            0     Patrick Reed       0  CUT  74  76 NaN NaN    150\n",
      "32698            0      Bobby Gates       0  CUT  76  75 NaN NaN    151\n",
      "12782            0       Tim Herron       0  CUT  79  76 NaN NaN    155\n",
      "28307            0       Matt Every       0  W/D  76 NaN NaN NaN     76\n",
      "\n",
      "[134 rows x 9 columns]\n"
     ]
    }
   ],
   "source": [
    "with open('20150423_zurich_classic_of_new_orleans/past.pkl', 'r') as f:\n",
    "    df = pd.DataFrame.from_dict(pickle.load(f)).set_index('player_id')\n",
    "print df"
   ]
  },
  {
   "cell_type": "markdown",
   "metadata": {},
   "source": [
    "### Clean tournament data"
   ]
  },
  {
   "cell_type": "markdown",
   "metadata": {},
   "source": [
    "** first scale the scores for the labels**"
   ]
  },
  {
   "cell_type": "code",
   "execution_count": 45,
   "metadata": {
    "collapsed": false
   },
   "outputs": [
    {
     "name": "stderr",
     "output_type": "stream",
     "text": [
      "/Users/jaco/anaconda/lib/python2.7/site-packages/IPython/kernel/__main__.py:4: SettingWithCopyWarning: \n",
      "A value is trying to be set on a copy of a slice from a DataFrame.\n",
      "Try using .loc[row_indexer,col_indexer] = value instead\n",
      "\n",
      "See the the caveats in the documentation: http://pandas.pydata.org/pandas-docs/stable/indexing.html#indexing-view-versus-copy\n",
      "/Users/jaco/anaconda/lib/python2.7/site-packages/IPython/kernel/__main__.py:10: SettingWithCopyWarning: \n",
      "A value is trying to be set on a copy of a slice from a DataFrame.\n",
      "Try using .loc[row_indexer,col_indexer] = value instead\n",
      "\n",
      "See the the caveats in the documentation: http://pandas.pydata.org/pandas-docs/stable/indexing.html#indexing-view-versus-copy\n"
     ]
    },
    {
     "name": "stdout",
     "output_type": "stream",
     "text": [
      "player_id\n",
      "29289        1.000\n",
      "34431        0.975\n",
      "29425        0.975\n",
      "28475        0.975\n",
      "24494        0.950\n",
      "24358        0.950\n",
      "12716        0.950\n",
      "33141        0.925\n",
      "30750        0.925\n",
      "22405        0.925\n",
      "...\n",
      "34409        0.041667\n",
      "35541        0.041667\n",
      "20691        0.041667\n",
      "01948        0.041667\n",
      "26679        0.041667\n",
      "30692        0.000000\n",
      "24490        0.000000\n",
      "02239        0.000000\n",
      "34360        0.000000\n",
      "32698        0.000000\n",
      "12782        0.000000\n",
      "Name: score_scaled, Length: 123, dtype: float64\n"
     ]
    }
   ],
   "source": [
    "# top half labels\n",
    "df_top = df[np.isfinite(df['r4'])]\n",
    "# print tdf_top.sort('score')\n",
    "df_top['score_scaled'] = MinMaxScaler(feature_range=(0.5, 1.)).fit_transform(df_top['score'].astype(float))[::-1]\n",
    "# print tdf_top.sort('score')\n",
    "\n",
    "# bottom half\n",
    "df_bot = df[df['pos'] == 'CUT']\n",
    "# print tdf_bot.sort('score')\n",
    "df_bot['score_scaled'] = MinMaxScaler(feature_range=(0., 0.5)).fit_transform(df_bot['score'].astype(float))[::-1]\n",
    "# print tdf_bot\n",
    "\n",
    "# combine labels\n",
    "df = pd.concat([df_top, df_bot])['score_scaled']\n",
    "print df"
   ]
  },
  {
   "cell_type": "markdown",
   "metadata": {},
   "source": [
    "## Players data"
   ]
  },
  {
   "cell_type": "markdown",
   "metadata": {},
   "source": [
    "**load data**"
   ]
  },
  {
   "cell_type": "code",
   "execution_count": 46,
   "metadata": {
    "collapsed": false
   },
   "outputs": [
    {
     "name": "stdout",
     "output_type": "stream",
     "text": [
      "could not load 21805\n",
      "           approach the green_approaches_from_100-125_yards  \\\n",
      "player_id                                                     \n",
      "29289                                              5.230769   \n",
      "\n",
      "           approach the green_approaches_from_100-125_yards_(rgh)  \\\n",
      "player_id                                                           \n",
      "29289                                               9.538462        \n",
      "\n",
      "           approach the green_approaches_from_125-150_yards  \\\n",
      "player_id                                                     \n",
      "29289                                              7.076923   \n",
      "\n",
      "           approach the green_approaches_from_125-150_yards_(rgh)  \\\n",
      "player_id                                                           \n",
      "29289                                               9.846154        \n",
      "\n",
      "           approach the green_approaches_from_150-175_yards  \\\n",
      "player_id                                                     \n",
      "29289                                              8.923077   \n",
      "\n",
      "           approach the green_approaches_from_150-175_yards_(rgh)  \\\n",
      "player_id                                                           \n",
      "29289                                              13.538462        \n",
      "\n",
      "           approach the green_approaches_from_175-200_yards  \\\n",
      "player_id                                                     \n",
      "29289                                             10.461538   \n",
      "\n",
      "           approach the green_approaches_from_175-200_yards_(rgh)  \\\n",
      "player_id                                                           \n",
      "29289                                              16.307692        \n",
      "\n",
      "           approach the green_approaches_from_200-225_yards  \\\n",
      "player_id                                                     \n",
      "29289                                             14.153846   \n",
      "\n",
      "           approach the green_approaches_from_200-225_yards_(rgh)  \\\n",
      "player_id                                                           \n",
      "29289                                              19.076923        \n",
      "\n",
      "                         ...                  recap_putting_average  \\\n",
      "player_id                ...                                          \n",
      "29289                    ...                                    NaN   \n",
      "\n",
      "           recap_scoring_average_(actual)  \\\n",
      "player_id                                   \n",
      "29289                                 NaN   \n",
      "\n",
      "           recap_web.com_tour_finals_priority_rankings  \\\n",
      "player_id                                                \n",
      "29289                                              NaN   \n",
      "\n",
      "           recap_web.com_tour_regular_season_money_list  \\\n",
      "player_id                                                 \n",
      "29289                                               NaN   \n",
      "\n",
      "           scoring_scoring_average_final_round  putting_3_putt_avoidance  \\\n",
      "player_id                                                                  \n",
      "29289                                      NaN                       NaN   \n",
      "\n",
      "           putting_one_putt_percentage  scoring_scoring_average_final_rnd  \\\n",
      "player_id                                                                   \n",
      "29289                              NaN                                NaN   \n",
      "\n",
      "           streaks_consecutive_par_4_birdies  \\\n",
      "player_id                                      \n",
      "29289                                    NaN   \n",
      "\n",
      "           streaks_consecutive_par_5_birdies  \n",
      "player_id                                     \n",
      "29289                                    NaN  \n",
      "\n",
      "[1 rows x 152 columns]\n"
     ]
    }
   ],
   "source": [
    "df_players = pd.DataFrame()\n",
    "for player_id, score_scaled in df.iteritems():\n",
    "    player_file = 'players/{}/{}.pkl'.format(2013, player_id)\n",
    "#     print pfile\n",
    "    if os.path.isfile(player_file):\n",
    "        with open(player_file, 'r') as f:\n",
    "            player_data = pickle.load(f)\n",
    "            player_data['player_id'] = player_id\n",
    "#             print pdata\n",
    "            df_players = df_players.append(player_data, ignore_index=True)\n",
    "#             break\n",
    "    else:\n",
    "        print 'could not load {}'.format(player_id)\n",
    "df_players = df_players.set_index('player_id')\n",
    "print df_players.head(1)"
   ]
  },
  {
   "cell_type": "markdown",
   "metadata": {},
   "source": [
    "### Clean player data"
   ]
  },
  {
   "cell_type": "markdown",
   "metadata": {},
   "source": [
    "**remove the features which has mostly nan**"
   ]
  },
  {
   "cell_type": "code",
   "execution_count": 47,
   "metadata": {
    "collapsed": false
   },
   "outputs": [
    {
     "name": "stdout",
     "output_type": "stream",
     "text": [
      "152 vs 26\n",
      "dropping ['approach the green_approaches_from_250-275_yards_(rgh)', 'approach the green_approaches_from_50-75_yards', 'approach the green_approaches_from_>_275_yards', 'approach the green_approaches_from_>_275_yards_(rgh)', 'approach the green_longest_hole_outs_(in_yards)', 'off the tee_longest_drives', 'off the tee_total_driving', 'off the tee_total_driving_efficiency', 'putting_longest_putts', 'putting_total_putting', 'recap_all-around_ranking', 'recap_ball_striking', 'recap_fedexcup_season_points', 'recap_total_driving', 'recap_fedexcup_playoffs_points', 'streaks_consecutive_cuts', 'recap_putting_average', 'recap_scoring_average_(actual)', 'recap_web.com_tour_finals_priority_rankings', 'recap_web.com_tour_regular_season_money_list', 'scoring_scoring_average_final_round', 'putting_3_putt_avoidance', 'putting_one_putt_percentage', 'scoring_scoring_average_final_rnd', 'streaks_consecutive_par_4_birdies', 'streaks_consecutive_par_5_birdies']\n",
      "126\n",
      "122\n",
      "87\n"
     ]
    }
   ],
   "source": [
    "# print df_players\n",
    "cols = []\n",
    "for col in df_players.columns:\n",
    "    #print col, df_players[col].isnull().sum()\n",
    "    if df_players[col].isnull().sum() > len(df_players) * 0.2:\n",
    "        cols.append(col)\n",
    "print len(df_players.columns), 'vs', len(cols)\n",
    "print 'dropping', cols\n",
    "df_players_cleaned = df_players.drop(cols, axis=1)\n",
    "print len(df_players_cleaned.columns)\n",
    "print len(df_players_cleaned)\n",
    "df_players_cleaned = df_players_cleaned.dropna()\n",
    "print len(df_players_cleaned)\n",
    "cols_to_use = df_players_cleaned.columns"
   ]
  },
  {
   "cell_type": "markdown",
   "metadata": {},
   "source": [
    "## Merge data"
   ]
  },
  {
   "cell_type": "markdown",
   "metadata": {},
   "source": [
    "**merge players data with history**"
   ]
  },
  {
   "cell_type": "code",
   "execution_count": 48,
   "metadata": {
    "collapsed": false
   },
   "outputs": [
    {
     "name": "stdout",
     "output_type": "stream",
     "text": [
      "player_id\n",
      "24490        0\n",
      "02239        0\n",
      "34360        0\n",
      "32698        0\n",
      "12782        0\n",
      "Name: score_scaled, dtype: float64\n",
      "87\n",
      "87\n"
     ]
    }
   ],
   "source": [
    "print df.tail()\n",
    "df_players_cleaned['score'] = df\n",
    "# print df_players_cleaned.tail()\n",
    "# print df_players_cleaned.head()\n",
    "print len(df_players_cleaned)\n",
    "df_merged = df_players_cleaned.dropna()\n",
    "print len(df_merged)"
   ]
  },
  {
   "cell_type": "code",
   "execution_count": 49,
   "metadata": {
    "collapsed": false
   },
   "outputs": [
    {
     "name": "stdout",
     "output_type": "stream",
     "text": [
      "labels\n",
      "player_id\n",
      "29289        1.000\n",
      "34431        0.975\n",
      "29425        0.975\n",
      "28475        0.975\n",
      "24494        0.950\n",
      "24358        0.950\n",
      "12716        0.950\n",
      "33141        0.925\n",
      "30750        0.925\n",
      "22405        0.925\n",
      "...\n",
      "27770        0.041667\n",
      "32448        0.041667\n",
      "27936        0.041667\n",
      "34409        0.041667\n",
      "20691        0.041667\n",
      "01948        0.041667\n",
      "26679        0.041667\n",
      "24490        0.000000\n",
      "34360        0.000000\n",
      "32698        0.000000\n",
      "12782        0.000000\n",
      "Name: score, Length: 87, dtype: float64\n",
      "features\n",
      "[ -1.16407126e+00   4.96469085e-01   3.99732679e-01  -4.81634729e-01\n",
      "   1.12233865e+00   8.56188699e-01   3.84548421e-01   1.76989773e-01\n",
      "   1.47462328e+00  -1.32195914e-01  -2.33193037e-01   8.13805473e-01\n",
      "   5.29031808e-01  -1.30395827e+00   1.78732032e-01  -5.90176450e-01\n",
      "  -3.80896160e-01  -6.27762265e-01  -1.86984555e-01   9.46497355e-01\n",
      "   3.74840505e-01  -5.51319097e-01   9.97096032e-01   6.32521585e-01\n",
      "  -3.09595370e-01   8.14773162e-01  -1.66290904e-01  -6.75559418e-01\n",
      "   1.59558622e+00   7.00659205e-01   4.09921758e-02  -8.70723590e-01\n",
      "   2.85668743e-01  -8.57160540e-01  -1.24100579e+00  -1.83950580e-01\n",
      "   1.08371325e-01  -7.14582545e-01  -1.11249627e+00  -9.42987783e-01\n",
      "  -5.36092520e-01   1.73416607e+00   2.85795509e+00  -2.16552496e+00\n",
      "   1.37707116e+00   9.71797071e-01   2.29149714e+00   4.96297455e-01\n",
      "  -1.15629039e-01   4.19499060e-01   1.07832773e-01  -3.28548007e-01\n",
      "   1.61458791e-01  -3.54037446e-01   5.90315254e-01  -2.07299123e+00\n",
      "   3.50249634e-01  -1.23373415e-01   8.24663191e-01  -5.66173569e-01\n",
      "  -6.35288284e-01  -8.64130921e-01   6.99604529e-01  -1.08244124e+00\n",
      "  -1.80597735e+00  -8.06822021e-01   2.75251206e-02  -7.29633413e-01\n",
      "  -2.38917985e+00  -5.30731781e-01   5.90618517e-01  -2.77244547e-01\n",
      "   7.29206242e-01   3.28649740e-01   1.41443757e+00  -1.17687547e+00\n",
      "   4.21046970e-02  -2.16552496e+00   1.37707116e+00   3.88033032e-01\n",
      "  -1.66290904e-01  -7.32781610e-01  -1.04522993e-01  -8.57160540e-01\n",
      "   9.92144879e-01  -1.17687547e+00  -1.15629039e-01  -8.92067092e-01\n",
      "   1.58303355e+00   4.21046970e-02  -8.72017349e-02   1.24462346e+00\n",
      "   3.88033032e-01   1.00422829e+00  -8.51555548e-01   1.62798643e+00\n",
      "   7.74001465e-02   5.74006201e-01   1.23534510e+00   4.28872049e-01\n",
      "  -2.45508389e-03  -4.95710003e-01   6.30939118e-01   1.28509499e-02\n",
      "   1.35353909e+00  -8.72017349e-02   1.04349063e-01   9.08910673e-01\n",
      "   6.59040798e-01   1.61122382e+00   9.92144879e-01   9.84359181e-01\n",
      "  -8.92067092e-01  -3.24990753e-02  -8.50557336e-01   1.19348829e+00\n",
      "   5.02997033e-01  -3.03840509e-01  -3.16306853e-02  -1.36671747e+00\n",
      "  -1.05405292e+00  -1.05673169e-01   1.00259885e+00   4.65241935e-01\n",
      "  -7.53319047e-01   7.12313633e-02]\n"
     ]
    }
   ],
   "source": [
    "labels = df_merged['score']\n",
    "print 'labels\\n', labels\n",
    "\n",
    "# print df_merged.columns[-10:]\n",
    "features = scale(df_merged.drop('score', axis=1))\n",
    "# print df_merged.columns[-10:]\n",
    "print 'features\\n', features[0]\n",
    "\n",
    "X_train, X_test, y_train, y_test = train_test_split(features, labels)"
   ]
  },
  {
   "cell_type": "markdown",
   "metadata": {},
   "source": [
    "# Machine Learning\n",
    "---"
   ]
  },
  {
   "cell_type": "code",
   "execution_count": 50,
   "metadata": {
    "collapsed": true
   },
   "outputs": [],
   "source": [
    "from sklearn.ensemble import GradientBoostingRegressor"
   ]
  },
  {
   "cell_type": "markdown",
   "metadata": {},
   "source": [
    "## Cross Validate"
   ]
  },
  {
   "cell_type": "markdown",
   "metadata": {},
   "source": [
    "**CV the data**"
   ]
  },
  {
   "cell_type": "code",
   "execution_count": 51,
   "metadata": {
    "collapsed": false
   },
   "outputs": [
    {
     "name": "stdout",
     "output_type": "stream",
     "text": [
      "-0.518658628948 0.77034501557\n",
      "[-0.11986646 -0.49213462  0.12505254 -0.0707887  -0.53345185 -0.88065398\n",
      "  0.00876729 -2.667447   -0.18558574 -0.37047777]\n"
     ]
    }
   ],
   "source": [
    "tree = GradientBoostingRegressor()\n",
    "cv = cross_val_score(tree, X_train, y_train, cv=10, scoring='r2')\n",
    "print np.mean(cv), np.std(cv)\n",
    "print cv"
   ]
  },
  {
   "cell_type": "markdown",
   "metadata": {},
   "source": [
    "## Training"
   ]
  },
  {
   "cell_type": "markdown",
   "metadata": {},
   "source": [
    "**fit the model**"
   ]
  },
  {
   "cell_type": "code",
   "execution_count": 52,
   "metadata": {
    "collapsed": false
   },
   "outputs": [
    {
     "data": {
      "text/plain": [
       "-0.54581798121072689"
      ]
     },
     "execution_count": 52,
     "metadata": {},
     "output_type": "execute_result"
    }
   ],
   "source": [
    "tree.fit(X_train, y_train)\n",
    "tree.score(X_test, y_test)"
   ]
  },
  {
   "cell_type": "markdown",
   "metadata": {},
   "source": [
    "## Predict"
   ]
  },
  {
   "cell_type": "markdown",
   "metadata": {},
   "source": [
    "**predict using current players**"
   ]
  },
  {
   "cell_type": "code",
   "execution_count": 54,
   "metadata": {
    "collapsed": false
   },
   "outputs": [
    {
     "name": "stdout",
     "output_type": "stream",
     "text": [
      "could not load 12716\n",
      "could not load 25364\n",
      "could not load 34021\n",
      "could not load 22792\n",
      "could not load 27141\n",
      "could not load 33413\n",
      "could not load 20098\n",
      "could not load 36689\n",
      "could not load 25834\n",
      "could not load 09011\n",
      "could not load 27436\n",
      "could not load 01161\n",
      "could not load 20160\n",
      "could not load 23497\n",
      "could not load 24663\n",
      "could not load 20498\n",
      "could not load 30110\n",
      "could not load 33418\n",
      "could not load 06567\n",
      "could not load 06621\n",
      "could not load 20766\n",
      "could not load 27120\n",
      "could not load 22913\n",
      "could not load 06522\n",
      "could not load 23320\n",
      "could not load 27556\n",
      "could not load 28310\n",
      "could not load 06004\n",
      "could not load 23614\n",
      "could not load 22621\n",
      "could not load 21805\n",
      "could not load 35139\n",
      "could not load 28093\n",
      "could not load 32200\n",
      "could not load 31289\n",
      "could not load 12652\n",
      "could not load 20070\n",
      "could not load 10213\n",
      "could not load 20850\n",
      "could not load 32448\n",
      "could not load 01948\n",
      "could not load 26679\n",
      "could not load 02239\n",
      "could not load 34360\n",
      "could not load 32698\n",
      "could not load 12782\n",
      "           approach the green_approaches_from_100-125_yards  \\\n",
      "player_id                                                     \n",
      "29289                                              6.153846   \n",
      "\n",
      "           approach the green_approaches_from_100-125_yards_(rgh)  \\\n",
      "player_id                                                           \n",
      "29289                                               9.538462        \n",
      "\n",
      "           approach the green_approaches_from_125-150_yards  \\\n",
      "player_id                                                     \n",
      "29289                                              6.769231   \n",
      "\n",
      "           approach the green_approaches_from_125-150_yards_(rgh)  \\\n",
      "player_id                                                           \n",
      "29289                                               9.230769        \n",
      "\n",
      "           approach the green_approaches_from_150-175_yards  \\\n",
      "player_id                                                     \n",
      "29289                                              8.923077   \n",
      "\n",
      "           approach the green_approaches_from_150-175_yards_(rgh)  \\\n",
      "player_id                                                           \n",
      "29289                                              11.692308        \n",
      "\n",
      "           approach the green_approaches_from_175-200_yards  \\\n",
      "player_id                                                     \n",
      "29289                                              9.538462   \n",
      "\n",
      "           approach the green_approaches_from_175-200_yards_(rgh)  \\\n",
      "player_id                                                           \n",
      "29289                                              14.769231        \n",
      "\n",
      "           approach the green_approaches_from_200-225_yards  \\\n",
      "player_id                                                     \n",
      "29289                                             12.307692   \n",
      "\n",
      "           approach the green_approaches_from_200-225_yards_(rgh)  \\\n",
      "player_id                                                           \n",
      "29289                                              19.692308        \n",
      "\n",
      "                          ...                   recap_ball_striking  \\\n",
      "player_id                 ...                                         \n",
      "29289                     ...                                   167   \n",
      "\n",
      "           recap_fedexcup_playoffs_points  recap_fedexcup_season_points  \\\n",
      "player_id                                                                 \n",
      "29289                                1590                           950   \n",
      "\n",
      "           recap_total_driving  streaks_consecutive_cuts  \\\n",
      "player_id                                                  \n",
      "29289                      201                         3   \n",
      "\n",
      "           recap_putting_average  recap_scoring_average_(actual)  \\\n",
      "player_id                                                          \n",
      "29289                        NaN                             NaN   \n",
      "\n",
      "           recap_web.com_tour_finals_priority_rankings  \\\n",
      "player_id                                                \n",
      "29289                                              NaN   \n",
      "\n",
      "           recap_web.com_tour_regular_season_money_list  \\\n",
      "player_id                                                 \n",
      "29289                                               NaN   \n",
      "\n",
      "           scoring_scoring_average_final_round  \n",
      "player_id                                       \n",
      "29289                                      NaN  \n",
      "\n",
      "[1 rows x 147 columns]\n"
     ]
    }
   ],
   "source": [
    "df_players = pd.DataFrame(columns=cols_to_use)\n",
    "for player_id, score_scaled in df.iteritems():\n",
    "    player_file = 'players/{}/{}.pkl'.format(2014, player_id)\n",
    "#     print pfile\n",
    "    if os.path.isfile(player_file):\n",
    "        with open(player_file, 'r') as f:\n",
    "            player_data = pickle.load(f)\n",
    "            player_data['player_id'] = player_id\n",
    "#             print pdata\n",
    "            df_players = df_players.append(player_data, ignore_index=True)\n",
    "#             break\n",
    "    else:\n",
    "        print 'could not load {}'.format(player_id)\n",
    "df_players = df_players.set_index('player_id')\n",
    "print df_players.head(1)"
   ]
  },
  {
   "cell_type": "code",
   "execution_count": 55,
   "metadata": {
    "collapsed": false
   },
   "outputs": [
    {
     "name": "stdout",
     "output_type": "stream",
     "text": [
      "87\n",
      "87\n"
     ]
    }
   ],
   "source": [
    "print len(df_players_cleaned)\n",
    "df_players_cleaned = df_players_cleaned.dropna()\n",
    "print len(df_players_cleaned)\n",
    "#print df_players_cleaned.tail()"
   ]
  },
  {
   "cell_type": "code",
   "execution_count": 58,
   "metadata": {
    "collapsed": false
   },
   "outputs": [
    {
     "name": "stdout",
     "output_type": "stream",
     "text": [
      "127\n",
      "126\n"
     ]
    }
   ],
   "source": [
    "#print df_players_cleaned\n",
    "# for i, row in df_players_cleaned.iterrows():\n",
    "#     print row\n",
    "print len(df_players_cleaned.columns)\n",
    "features = scale(df_players_cleaned.drop('score', axis=1))\n",
    "print len(features[0])"
   ]
  },
  {
   "cell_type": "code",
   "execution_count": 78,
   "metadata": {
    "collapsed": false
   },
   "outputs": [
    {
     "name": "stdout",
     "output_type": "stream",
     "text": [
      "                  p\n",
      "player_id          \n",
      "29289      0.995145\n",
      "34431      0.975571\n",
      "29425      0.969948\n",
      "28475      0.854066\n",
      "24494      0.943813\n",
      "24358      0.944726\n",
      "12716      0.948466\n",
      "33141      0.696594\n",
      "30750      0.920409\n",
      "22405      0.922537\n",
      "34021      0.513123\n",
      "22792      0.898801\n",
      "...             ...\n",
      "27963      0.045627\n",
      "27770      0.043564\n",
      "32448      0.043936\n",
      "27936      0.048787\n",
      "34409      0.047952\n",
      "20691      0.822302\n",
      "01948      0.456366\n",
      "26679      0.046156\n",
      "24490      0.004876\n",
      "34360      0.007630\n",
      "32698      0.652090\n",
      "12782      0.001841\n",
      "\n",
      "[87 rows x 1 columns]\n"
     ]
    }
   ],
   "source": [
    "prediction = pd.DataFrame(index=df_players_cleaned.index)\n",
    "prediction['p'] = tree.predict(features)\n",
    "print prediction"
   ]
  },
  {
   "cell_type": "code",
   "execution_count": 79,
   "metadata": {
    "collapsed": false
   },
   "outputs": [
    {
     "name": "stdout",
     "output_type": "stream",
     "text": [
      "                  p       p_w\n",
      "player_id                    \n",
      "29289      0.995145  0.022182\n",
      "34431      0.975571  0.021745\n",
      "29425      0.969948  0.021620\n",
      "28475      0.854066  0.019037\n",
      "24494      0.943813  0.021037\n",
      "24358      0.944726  0.021058\n",
      "12716      0.948466  0.021141\n",
      "33141      0.696594  0.015527\n",
      "30750      0.920409  0.020516\n",
      "22405      0.922537  0.020563\n",
      "34021      0.513123  0.011437\n",
      "22792      0.898801  0.020034\n",
      "...             ...       ...\n",
      "27963      0.045627  0.001017\n",
      "27770      0.043564  0.000971\n",
      "32448      0.043936  0.000979\n",
      "27936      0.048787  0.001087\n",
      "34409      0.047952  0.001069\n",
      "20691      0.822302  0.018329\n",
      "01948      0.456366  0.010172\n",
      "26679      0.046156  0.001029\n",
      "24490      0.004876  0.000109\n",
      "34360      0.007630  0.000170\n",
      "32698      0.652090  0.014535\n",
      "12782      0.001841  0.000041\n",
      "\n",
      "[87 rows x 2 columns]\n"
     ]
    }
   ],
   "source": [
    "prediction['p_w'] = prediction['p'] / prediction['p'].sum()\n",
    "print prediction"
   ]
  },
  {
   "cell_type": "code",
   "execution_count": 75,
   "metadata": {
    "collapsed": false
   },
   "outputs": [
    {
     "data": {
      "text/plain": [
       "20.916847480658383"
      ]
     },
     "execution_count": 75,
     "metadata": {},
     "output_type": "execute_result"
    }
   ],
   "source": []
  },
  {
   "cell_type": "code",
   "execution_count": 73,
   "metadata": {
    "collapsed": false
   },
   "outputs": [
    {
     "name": "stdout",
     "output_type": "stream",
     "text": [
      "                  p      player_name\n",
      "player_id                           \n",
      "29289      0.995145    Seung-Yul Noh\n",
      "34431      0.975571     Robert Streb\n",
      "29425      0.969948   Andrew Svoboda\n",
      "28475      0.854066     Jeff Overton\n",
      "24494      0.943813     Erik Compton\n",
      "24358      0.944726  Robert Garrigus\n",
      "12716      0.948466  Charley Hoffman\n",
      "33141      0.696594   Keegan Bradley\n",
      "30750      0.920409     Tommy Gainey\n",
      "22405      0.922537      Justin Rose\n",
      "34021      0.513123       Bud Cauley\n",
      "22792      0.898801     Peter Hanson\n",
      "...             ...              ...\n",
      "27963      0.045627     Chris Stroud\n",
      "27770      0.043564  Camilo Villegas\n",
      "32448      0.043936       James Hahn\n",
      "27936      0.048787     Martin Laird\n",
      "34409      0.047952  David Lingmerth\n",
      "20691      0.822302        Greg Owen\n",
      "01948      0.456366     Tim Petrovic\n",
      "26679      0.046156    Kevin Stadler\n",
      "24490      0.004876   George McNeill\n",
      "34360      0.007630     Patrick Reed\n",
      "32698      0.652090      Bobby Gates\n",
      "12782      0.001841       Tim Herron\n",
      "\n",
      "[87 rows x 2 columns]\n"
     ]
    }
   ],
   "source": [
    "#print prediction.index.values\n",
    "with open('players/_list.pkl', 'r') as f:\n",
    "    players = pickle.load(f)\n",
    "    players = {v: k for k, v in players.iteritems()}\n",
    "    #print players\n",
    "    prediction['player_name'] = [players[i] if i in players else None for i in prediction.index.values]\n",
    "prediction_found = prediction.dropna()\n",
    "print prediction_found"
   ]
  },
  {
   "cell_type": "code",
   "execution_count": null,
   "metadata": {
    "collapsed": true
   },
   "outputs": [],
   "source": []
  }
 ],
 "metadata": {
  "kernelspec": {
   "display_name": "Python 2",
   "language": "python",
   "name": "python2"
  },
  "language_info": {
   "codemirror_mode": {
    "name": "ipython",
    "version": 2
   },
   "file_extension": ".py",
   "mimetype": "text/x-python",
   "name": "python",
   "nbconvert_exporter": "python",
   "pygments_lexer": "ipython2",
   "version": "2.7.9"
  }
 },
 "nbformat": 4,
 "nbformat_minor": 0
}
